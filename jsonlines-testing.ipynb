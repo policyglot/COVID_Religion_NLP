{
 "cells": [
  {
   "cell_type": "code",
   "execution_count": null,
   "metadata": {},
   "outputs": [],
   "source": [
    "# Installations\n",
    "!pip install gzip\n",
    "!pip install geopy\n",
    "!pip install boto"
   ]
  },
  {
   "cell_type": "code",
   "execution_count": 1,
   "metadata": {},
   "outputs": [],
   "source": [
    "#jsonlines code\n",
    "# Based on:\n",
    "import jsonlines\n",
    "import pprint\n",
    "import json\n",
    "import numpy as np\n",
    "import pandas as pd\n",
    "import gzip\n",
    "import os"
   ]
  },
  {
   "cell_type": "code",
   "execution_count": null,
   "metadata": {},
   "outputs": [],
   "source": [
    "#Get all relevant folders across all subdirectories\n",
    "dir_name = 'D:\\Dropbox\\Programming\\COVID_Religion_Project\\COVID-19-TweetIDs\\gz_unzip_test'\n",
    "extension = \".gz\"\n",
    "\n",
    "#os.chdir(dir_name) # change directory from working dir to dir with files\n",
    "\n",
    "for item in os.listdir(dir_name): # loop through items in dir\n",
    "    if item.endswith(extension): # check for \".zip\" extension\n",
    "        print(item)\n",
    "        file_name = os.path.abspath(item) # get full path of files\n",
    "        zip_ref = zipfile.ZipFile(file_name) # create zipfile object\n",
    "        zip_ref.extractall(dir_name) # extract file to dir\n",
    "        zip_ref.close() # close file\n",
    "        os.remove(file_name) # delete zipped file"
   ]
  },
  {
   "cell_type": "code",
   "execution_count": null,
   "metadata": {},
   "outputs": [],
   "source": [
    "#for later upgrade to deal with gzip files, rather than just jsonl\n",
    "file = 'D:\\Dropbox\\Programming\\COVID_Religion_Project\\COVID-19-TweetIDs\\gz_unzip_test\\coronavirus-tweet-id-2020-01-21-22.jsonl.gz'\n",
    "f = gzip.open(file, 'rb')\n",
    "file_content = f.readlines()\n",
    "f.close()\n",
    "\n",
    "#Create list of dictionaries\n",
    "final_json = [json.loads(line.decode('utf8')) for line in file_content]\n"
   ]
  },
  {
   "cell_type": "code",
   "execution_count": 36,
   "metadata": {},
   "outputs": [],
   "source": [
    "def jsonl_to_jsonlist(link):\n",
    "    \"\"\"\n",
    "    Takes in a compressed json file, returns a list of json dictionary objects\n",
    "    Deletes the entitites and retweeted_status keys in the dictionary whenever present\n",
    "    Also removes the 'entities' subdictionary to limit the depth of nesting to 1\n",
    "    \"\"\"\n",
    "    json_list =[]\n",
    "    with jsonlines.open(link) as f:\n",
    "        for line in f.iter():\n",
    "            try:\n",
    "                del line['entities']\n",
    "            except:\n",
    "                pass            \n",
    "            \n",
    "            try:\n",
    "                del line['retweeted_status']\n",
    "            except:\n",
    "                #since some tweets were never retweeted\n",
    "                pass\n",
    "            #we don't want unnecessary multi-level nesting\n",
    "            for key in line['user'].keys():\n",
    "                if isinstance(line['user'][key], list):\n",
    "                    line['user'][key] = line['user'][key][0]\n",
    "            \n",
    "            json_list.append(line)\n",
    "    return json_list"
   ]
  },
  {
   "cell_type": "code",
   "execution_count": 3,
   "metadata": {},
   "outputs": [],
   "source": [
    "#Taking sample files from the beginning of Corona cases (March) and the present day\n",
    "mar_link = 'COVID-19-TweetIDs\\gz_unzip_test\\coronavirus-tweet-id-2020-03-08-17.jsonl'\n",
    "jul_link = 'COVID-19-TweetIDs\\gz_unzip_test\\coronavirus-tweet-id-2020-07-01-05.jsonl'"
   ]
  },
  {
   "cell_type": "markdown",
   "metadata": {},
   "source": [
    "## Understanding the Shape of the Data"
   ]
  },
  {
   "cell_type": "code",
   "execution_count": 72,
   "metadata": {},
   "outputs": [
    {
     "name": "stdout",
     "output_type": "stream",
     "text": [
      "{'contributors': None,\n",
      " 'coordinates': None,\n",
      " 'created_at': 'Wed Jul 01 04:59:56 +0000 2020',\n",
      " 'display_text_range': [0, 135],\n",
      " 'favorite_count': 1,\n",
      " 'favorited': False,\n",
      " 'full_text': 'Prehospitalización de pacientes COVID en la atención primaria: '\n",
      "              'La otra cara del colapso en el Hospital San José '\n",
      "              'https://t.co/VTbNGS2NtD',\n",
      " 'geo': None,\n",
      " 'id': 1278191585474338800,\n",
      " 'id_str': '1278191585474338816',\n",
      " 'in_reply_to_screen_name': None,\n",
      " 'in_reply_to_status_id': None,\n",
      " 'in_reply_to_status_id_str': None,\n",
      " 'in_reply_to_user_id': None,\n",
      " 'in_reply_to_user_id_str': None,\n",
      " 'is_quote_status': False,\n",
      " 'lang': 'es',\n",
      " 'place': None,\n",
      " 'possibly_sensitive': False,\n",
      " 'retweet_count': 3,\n",
      " 'retweeted': False,\n",
      " 'source': '<a href=\"https://mobile.twitter.com\" rel=\"nofollow\">Twitter Web '\n",
      "           'App</a>',\n",
      " 'truncated': False,\n",
      " 'user': {'contributors_enabled': False,\n",
      "          'created_at': 'Wed Apr 15 18:16:53 +0000 2009',\n",
      "          'default_profile': False,\n",
      "          'default_profile_image': False,\n",
      "          'description': 'Ciudadano observador desde las ciencias '\n",
      "                         'sociales.Cuidadoso con la calidad de lo opinado.🙂 '\n",
      "                         'Inbano. Tenia esperanza en el FA, ahora no estoy '\n",
      "                         'seguro',\n",
      "          'entities': {'description': {'urls': []}},\n",
      "          'favourites_count': 7628,\n",
      "          'follow_request_sent': False,\n",
      "          'followers_count': 19151,\n",
      "          'following': False,\n",
      "          'friends_count': 18224,\n",
      "          'geo_enabled': True,\n",
      "          'has_extended_profile': False,\n",
      "          'id': 31473613,\n",
      "          'id_str': '31473613',\n",
      "          'is_translation_enabled': False,\n",
      "          'is_translator': False,\n",
      "          'lang': None,\n",
      "          'listed_count': 28,\n",
      "          'location': 'Santiago',\n",
      "          'name': 'Carrizo',\n",
      "          'notifications': False,\n",
      "          'profile_background_color': 'B2DFDA',\n",
      "          'profile_background_image_url': 'http://abs.twimg.com/images/themes/theme13/bg.gif',\n",
      "          'profile_background_image_url_https': 'https://abs.twimg.com/images/themes/theme13/bg.gif',\n",
      "          'profile_background_tile': False,\n",
      "          'profile_banner_url': 'https://pbs.twimg.com/profile_banners/31473613/1442767835',\n",
      "          'profile_image_url': 'http://pbs.twimg.com/profile_images/462088121597693952/6yBdOCCI_normal.jpeg',\n",
      "          'profile_image_url_https': 'https://pbs.twimg.com/profile_images/462088121597693952/6yBdOCCI_normal.jpeg',\n",
      "          'profile_link_color': '93A644',\n",
      "          'profile_sidebar_border_color': 'EEEEEE',\n",
      "          'profile_sidebar_fill_color': 'FFFFFF',\n",
      "          'profile_text_color': '333333',\n",
      "          'profile_use_background_image': True,\n",
      "          'protected': False,\n",
      "          'screen_name': 'Miguelcarrizo',\n",
      "          'statuses_count': 67013,\n",
      "          'time_zone': None,\n",
      "          'translator_type': 'none',\n",
      "          'url': None,\n",
      "          'utc_offset': None,\n",
      "          'verified': False}}\n"
     ]
    }
   ],
   "source": [
    "jul_json = jsonl_to_jsonlist(jul_link)\n",
    "test = jul_json[3]\n",
    "pprint.pprint(test)"
   ]
  },
  {
   "cell_type": "code",
   "execution_count": 40,
   "metadata": {},
   "outputs": [],
   "source": [
    "mar_json = jsonl_to_jsonlist(mar_link)"
   ]
  },
  {
   "cell_type": "code",
   "execution_count": 38,
   "metadata": {},
   "outputs": [
    {
     "name": "stdout",
     "output_type": "stream",
     "text": [
      "{'contributors': None,\n",
      " 'coordinates': None,\n",
      " 'created_at': 'Sun Mar 08 17:02:33 +0000 2020',\n",
      " 'display_text_range': [0, 140],\n",
      " 'favorite_count': 0,\n",
      " 'favorited': False,\n",
      " 'full_text': 'RT @itsJeffTiedrich: holy fucking shit, over at Facebook some '\n",
      "              'deplorable is screaming at me that the coronavirus is a '\n",
      "              '\"Democrat hoax\" and t…',\n",
      " 'geo': None,\n",
      " 'id': 1236698835579072500,\n",
      " 'id_str': '1236698835579072513',\n",
      " 'in_reply_to_screen_name': None,\n",
      " 'in_reply_to_status_id': None,\n",
      " 'in_reply_to_status_id_str': None,\n",
      " 'in_reply_to_user_id': None,\n",
      " 'in_reply_to_user_id_str': None,\n",
      " 'is_quote_status': False,\n",
      " 'lang': 'en',\n",
      " 'place': None,\n",
      " 'retweet_count': 3818,\n",
      " 'retweeted': False,\n",
      " 'source': '<a href=\"http://twitter.com/download/iphone\" '\n",
      "           'rel=\"nofollow\">Twitter for iPhone</a>',\n",
      " 'truncated': False,\n",
      " 'user': {'contributors_enabled': False,\n",
      "          'created_at': 'Tue Jul 02 00:29:33 +0000 2019',\n",
      "          'default_profile': True,\n",
      "          'default_profile_image': False,\n",
      "          'description': '(NO DM’s)Crypto Enthusiast,Troll Politician’s,Sh*t '\n",
      "                         'Talker,Tryin Not To Get Banned!! #resistance '\n",
      "                         '#BlueWave #ImpeachmentTaskForce #Biden2020 #resistor',\n",
      "          'entities': {'description': {'urls': []}},\n",
      "          'favourites_count': 22673,\n",
      "          'follow_request_sent': False,\n",
      "          'followers_count': 2103,\n",
      "          'following': False,\n",
      "          'friends_count': 3731,\n",
      "          'geo_enabled': False,\n",
      "          'has_extended_profile': False,\n",
      "          'id': 1145851972248981500,\n",
      "          'id_str': '1145851972248981504',\n",
      "          'is_translation_enabled': False,\n",
      "          'is_translator': False,\n",
      "          'lang': None,\n",
      "          'listed_count': 5,\n",
      "          'location': 'United States',\n",
      "          'name': 'HAPPY TROLL',\n",
      "          'notifications': False,\n",
      "          'profile_background_color': 'F5F8FA',\n",
      "          'profile_background_image_url': None,\n",
      "          'profile_background_image_url_https': None,\n",
      "          'profile_background_tile': False,\n",
      "          'profile_banner_url': 'https://pbs.twimg.com/profile_banners/1145851972248981504/1590761159',\n",
      "          'profile_image_url': 'http://pbs.twimg.com/profile_images/1176912772350664705/b7zfFHCX_normal.jpg',\n",
      "          'profile_image_url_https': 'https://pbs.twimg.com/profile_images/1176912772350664705/b7zfFHCX_normal.jpg',\n",
      "          'profile_link_color': '1DA1F2',\n",
      "          'profile_sidebar_border_color': 'C0DEED',\n",
      "          'profile_sidebar_fill_color': 'DDEEF6',\n",
      "          'profile_text_color': '333333',\n",
      "          'profile_use_background_image': True,\n",
      "          'protected': False,\n",
      "          'screen_name': 'Twilliams1991',\n",
      "          'statuses_count': 29870,\n",
      "          'time_zone': None,\n",
      "          'translator_type': 'none',\n",
      "          'url': None,\n",
      "          'utc_offset': None,\n",
      "          'verified': False}}\n"
     ]
    }
   ],
   "source": [
    "test = mar_json[39]\n",
    "pprint.pprint(test)"
   ]
  },
  {
   "cell_type": "code",
   "execution_count": 47,
   "metadata": {},
   "outputs": [
    {
     "name": "stdout",
     "output_type": "stream",
     "text": [
      "22\n",
      "['created_at', 'id', 'id_str', 'full_text', 'truncated', 'display_text_range', 'source', 'in_reply_to_status_id', 'in_reply_to_status_id_str', 'in_reply_to_user_id', 'in_reply_to_user_id_str', 'in_reply_to_screen_name', 'geo', 'coordinates', 'place', 'contributors', 'is_quote_status', 'retweet_count', 'favorite_count', 'favorited', 'retweeted', 'lang']\n"
     ]
    }
   ],
   "source": [
    "cols = list(test.keys())\n",
    "cols.remove('user')\n",
    "print(len(cols))\n",
    "print(cols)"
   ]
  },
  {
   "cell_type": "code",
   "execution_count": 48,
   "metadata": {},
   "outputs": [
    {
     "ename": "MemoryError",
     "evalue": "",
     "output_type": "error",
     "traceback": [
      "\u001b[1;31m---------------------------------------------------------------------------\u001b[0m",
      "\u001b[1;31mMemoryError\u001b[0m                               Traceback (most recent call last)",
      "\u001b[1;32m<ipython-input-48-9fa1125e806a>\u001b[0m in \u001b[0;36m<module>\u001b[1;34m()\u001b[0m\n\u001b[0;32m      7\u001b[0m                            \u001b[1;31m#record_prefix='user_',\u001b[0m\u001b[1;33m\u001b[0m\u001b[1;33m\u001b[0m\u001b[0m\n\u001b[0;32m      8\u001b[0m                            \u001b[1;31m#meta_prefix='tweet_',\u001b[0m\u001b[1;33m\u001b[0m\u001b[1;33m\u001b[0m\u001b[0m\n\u001b[1;32m----> 9\u001b[1;33m                            errors='ignore')\n\u001b[0m",
      "\u001b[1;32m~\\Anaconda3\\lib\\site-packages\\pandas\\io\\json\\normalize.py\u001b[0m in \u001b[0;36mjson_normalize\u001b[1;34m(data, record_path, meta, meta_prefix, record_prefix, errors, sep)\u001b[0m\n\u001b[0;32m    273\u001b[0m                              'need distinguishing prefix '.format(name=k))\n\u001b[0;32m    274\u001b[0m \u001b[1;33m\u001b[0m\u001b[0m\n\u001b[1;32m--> 275\u001b[1;33m         \u001b[0mresult\u001b[0m\u001b[1;33m[\u001b[0m\u001b[0mk\u001b[0m\u001b[1;33m]\u001b[0m \u001b[1;33m=\u001b[0m \u001b[0mnp\u001b[0m\u001b[1;33m.\u001b[0m\u001b[0marray\u001b[0m\u001b[1;33m(\u001b[0m\u001b[0mv\u001b[0m\u001b[1;33m)\u001b[0m\u001b[1;33m.\u001b[0m\u001b[0mrepeat\u001b[0m\u001b[1;33m(\u001b[0m\u001b[0mlengths\u001b[0m\u001b[1;33m)\u001b[0m\u001b[1;33m\u001b[0m\u001b[0m\n\u001b[0m\u001b[0;32m    276\u001b[0m \u001b[1;33m\u001b[0m\u001b[0m\n\u001b[0;32m    277\u001b[0m     \u001b[1;32mreturn\u001b[0m \u001b[0mresult\u001b[0m\u001b[1;33m\u001b[0m\u001b[0m\n",
      "\u001b[1;32m~\\Anaconda3\\lib\\site-packages\\pandas\\core\\frame.py\u001b[0m in \u001b[0;36m__setitem__\u001b[1;34m(self, key, value)\u001b[0m\n\u001b[0;32m   3114\u001b[0m         \u001b[1;32melse\u001b[0m\u001b[1;33m:\u001b[0m\u001b[1;33m\u001b[0m\u001b[0m\n\u001b[0;32m   3115\u001b[0m             \u001b[1;31m# set column\u001b[0m\u001b[1;33m\u001b[0m\u001b[1;33m\u001b[0m\u001b[0m\n\u001b[1;32m-> 3116\u001b[1;33m             \u001b[0mself\u001b[0m\u001b[1;33m.\u001b[0m\u001b[0m_set_item\u001b[0m\u001b[1;33m(\u001b[0m\u001b[0mkey\u001b[0m\u001b[1;33m,\u001b[0m \u001b[0mvalue\u001b[0m\u001b[1;33m)\u001b[0m\u001b[1;33m\u001b[0m\u001b[0m\n\u001b[0m\u001b[0;32m   3117\u001b[0m \u001b[1;33m\u001b[0m\u001b[0m\n\u001b[0;32m   3118\u001b[0m     \u001b[1;32mdef\u001b[0m \u001b[0m_setitem_slice\u001b[0m\u001b[1;33m(\u001b[0m\u001b[0mself\u001b[0m\u001b[1;33m,\u001b[0m \u001b[0mkey\u001b[0m\u001b[1;33m,\u001b[0m \u001b[0mvalue\u001b[0m\u001b[1;33m)\u001b[0m\u001b[1;33m:\u001b[0m\u001b[1;33m\u001b[0m\u001b[0m\n",
      "\u001b[1;32m~\\Anaconda3\\lib\\site-packages\\pandas\\core\\frame.py\u001b[0m in \u001b[0;36m_set_item\u001b[1;34m(self, key, value)\u001b[0m\n\u001b[0;32m   3189\u001b[0m \u001b[1;33m\u001b[0m\u001b[0m\n\u001b[0;32m   3190\u001b[0m         \u001b[0mself\u001b[0m\u001b[1;33m.\u001b[0m\u001b[0m_ensure_valid_index\u001b[0m\u001b[1;33m(\u001b[0m\u001b[0mvalue\u001b[0m\u001b[1;33m)\u001b[0m\u001b[1;33m\u001b[0m\u001b[0m\n\u001b[1;32m-> 3191\u001b[1;33m         \u001b[0mvalue\u001b[0m \u001b[1;33m=\u001b[0m \u001b[0mself\u001b[0m\u001b[1;33m.\u001b[0m\u001b[0m_sanitize_column\u001b[0m\u001b[1;33m(\u001b[0m\u001b[0mkey\u001b[0m\u001b[1;33m,\u001b[0m \u001b[0mvalue\u001b[0m\u001b[1;33m)\u001b[0m\u001b[1;33m\u001b[0m\u001b[0m\n\u001b[0m\u001b[0;32m   3192\u001b[0m         \u001b[0mNDFrame\u001b[0m\u001b[1;33m.\u001b[0m\u001b[0m_set_item\u001b[0m\u001b[1;33m(\u001b[0m\u001b[0mself\u001b[0m\u001b[1;33m,\u001b[0m \u001b[0mkey\u001b[0m\u001b[1;33m,\u001b[0m \u001b[0mvalue\u001b[0m\u001b[1;33m)\u001b[0m\u001b[1;33m\u001b[0m\u001b[0m\n\u001b[0;32m   3193\u001b[0m \u001b[1;33m\u001b[0m\u001b[0m\n",
      "\u001b[1;32m~\\Anaconda3\\lib\\site-packages\\pandas\\core\\frame.py\u001b[0m in \u001b[0;36m_sanitize_column\u001b[1;34m(self, key, value, broadcast)\u001b[0m\n\u001b[0;32m   3397\u001b[0m                 \u001b[0mvalue\u001b[0m \u001b[1;33m=\u001b[0m \u001b[0mvalue\u001b[0m\u001b[1;33m.\u001b[0m\u001b[0mcopy\u001b[0m\u001b[1;33m(\u001b[0m\u001b[0mdeep\u001b[0m\u001b[1;33m=\u001b[0m\u001b[1;32mTrue\u001b[0m\u001b[1;33m)\u001b[0m\u001b[1;33m\u001b[0m\u001b[0m\n\u001b[0;32m   3398\u001b[0m             \u001b[1;32melse\u001b[0m\u001b[1;33m:\u001b[0m\u001b[1;33m\u001b[0m\u001b[0m\n\u001b[1;32m-> 3399\u001b[1;33m                 \u001b[0mvalue\u001b[0m \u001b[1;33m=\u001b[0m \u001b[0mvalue\u001b[0m\u001b[1;33m.\u001b[0m\u001b[0mcopy\u001b[0m\u001b[1;33m(\u001b[0m\u001b[1;33m)\u001b[0m\u001b[1;33m\u001b[0m\u001b[0m\n\u001b[0m\u001b[0;32m   3400\u001b[0m \u001b[1;33m\u001b[0m\u001b[0m\n\u001b[0;32m   3401\u001b[0m             \u001b[1;31m# possibly infer to datetimelike\u001b[0m\u001b[1;33m\u001b[0m\u001b[1;33m\u001b[0m\u001b[0m\n",
      "\u001b[1;31mMemoryError\u001b[0m: "
     ]
    }
   ],
   "source": [
    "#normalizing json\n",
    "# https://stackoverflow.com/questions/40588852/pandas-read-nested-json\n",
    "from pandas.io.json import json_normalize \n",
    "df_normal = json_normalize(mar_json,\n",
    "                           record_path=['user'],\n",
    "                           meta=cols,\n",
    "                           #record_prefix='user_',\n",
    "                           #meta_prefix='tweet_',\n",
    "                           errors='ignore')"
   ]
  },
  {
   "cell_type": "code",
   "execution_count": 45,
   "metadata": {},
   "outputs": [
    {
     "data": {
      "text/html": [
       "<div>\n",
       "<style scoped>\n",
       "    .dataframe tbody tr th:only-of-type {\n",
       "        vertical-align: middle;\n",
       "    }\n",
       "\n",
       "    .dataframe tbody tr th {\n",
       "        vertical-align: top;\n",
       "    }\n",
       "\n",
       "    .dataframe thead th {\n",
       "        text-align: right;\n",
       "    }\n",
       "</style>\n",
       "<table border=\"1\" class=\"dataframe\">\n",
       "  <thead>\n",
       "    <tr style=\"text-align: right;\">\n",
       "      <th></th>\n",
       "      <th>0</th>\n",
       "    </tr>\n",
       "  </thead>\n",
       "  <tbody>\n",
       "    <tr>\n",
       "      <th>0</th>\n",
       "      <td>id</td>\n",
       "    </tr>\n",
       "    <tr>\n",
       "      <th>1</th>\n",
       "      <td>id_str</td>\n",
       "    </tr>\n",
       "    <tr>\n",
       "      <th>2</th>\n",
       "      <td>name</td>\n",
       "    </tr>\n",
       "    <tr>\n",
       "      <th>3</th>\n",
       "      <td>screen_name</td>\n",
       "    </tr>\n",
       "    <tr>\n",
       "      <th>4</th>\n",
       "      <td>location</td>\n",
       "    </tr>\n",
       "    <tr>\n",
       "      <th>5</th>\n",
       "      <td>description</td>\n",
       "    </tr>\n",
       "    <tr>\n",
       "      <th>6</th>\n",
       "      <td>url</td>\n",
       "    </tr>\n",
       "    <tr>\n",
       "      <th>7</th>\n",
       "      <td>entities</td>\n",
       "    </tr>\n",
       "    <tr>\n",
       "      <th>8</th>\n",
       "      <td>protected</td>\n",
       "    </tr>\n",
       "    <tr>\n",
       "      <th>9</th>\n",
       "      <td>followers_count</td>\n",
       "    </tr>\n",
       "    <tr>\n",
       "      <th>10</th>\n",
       "      <td>friends_count</td>\n",
       "    </tr>\n",
       "    <tr>\n",
       "      <th>11</th>\n",
       "      <td>listed_count</td>\n",
       "    </tr>\n",
       "    <tr>\n",
       "      <th>12</th>\n",
       "      <td>created_at</td>\n",
       "    </tr>\n",
       "    <tr>\n",
       "      <th>13</th>\n",
       "      <td>favourites_count</td>\n",
       "    </tr>\n",
       "    <tr>\n",
       "      <th>14</th>\n",
       "      <td>utc_offset</td>\n",
       "    </tr>\n",
       "    <tr>\n",
       "      <th>15</th>\n",
       "      <td>time_zone</td>\n",
       "    </tr>\n",
       "    <tr>\n",
       "      <th>16</th>\n",
       "      <td>geo_enabled</td>\n",
       "    </tr>\n",
       "    <tr>\n",
       "      <th>17</th>\n",
       "      <td>verified</td>\n",
       "    </tr>\n",
       "    <tr>\n",
       "      <th>18</th>\n",
       "      <td>statuses_count</td>\n",
       "    </tr>\n",
       "    <tr>\n",
       "      <th>19</th>\n",
       "      <td>lang</td>\n",
       "    </tr>\n",
       "    <tr>\n",
       "      <th>20</th>\n",
       "      <td>contributors_enabled</td>\n",
       "    </tr>\n",
       "    <tr>\n",
       "      <th>21</th>\n",
       "      <td>is_translator</td>\n",
       "    </tr>\n",
       "    <tr>\n",
       "      <th>22</th>\n",
       "      <td>is_translation_enabled</td>\n",
       "    </tr>\n",
       "    <tr>\n",
       "      <th>23</th>\n",
       "      <td>profile_background_color</td>\n",
       "    </tr>\n",
       "    <tr>\n",
       "      <th>24</th>\n",
       "      <td>profile_background_image_url</td>\n",
       "    </tr>\n",
       "    <tr>\n",
       "      <th>25</th>\n",
       "      <td>profile_background_image_url_https</td>\n",
       "    </tr>\n",
       "    <tr>\n",
       "      <th>26</th>\n",
       "      <td>profile_background_tile</td>\n",
       "    </tr>\n",
       "    <tr>\n",
       "      <th>27</th>\n",
       "      <td>profile_image_url</td>\n",
       "    </tr>\n",
       "    <tr>\n",
       "      <th>28</th>\n",
       "      <td>profile_image_url_https</td>\n",
       "    </tr>\n",
       "    <tr>\n",
       "      <th>29</th>\n",
       "      <td>profile_banner_url</td>\n",
       "    </tr>\n",
       "    <tr>\n",
       "      <th>...</th>\n",
       "      <td>...</td>\n",
       "    </tr>\n",
       "    <tr>\n",
       "      <th>2068681</th>\n",
       "      <td>listed_count</td>\n",
       "    </tr>\n",
       "    <tr>\n",
       "      <th>2068682</th>\n",
       "      <td>created_at</td>\n",
       "    </tr>\n",
       "    <tr>\n",
       "      <th>2068683</th>\n",
       "      <td>favourites_count</td>\n",
       "    </tr>\n",
       "    <tr>\n",
       "      <th>2068684</th>\n",
       "      <td>utc_offset</td>\n",
       "    </tr>\n",
       "    <tr>\n",
       "      <th>2068685</th>\n",
       "      <td>time_zone</td>\n",
       "    </tr>\n",
       "    <tr>\n",
       "      <th>2068686</th>\n",
       "      <td>geo_enabled</td>\n",
       "    </tr>\n",
       "    <tr>\n",
       "      <th>2068687</th>\n",
       "      <td>verified</td>\n",
       "    </tr>\n",
       "    <tr>\n",
       "      <th>2068688</th>\n",
       "      <td>statuses_count</td>\n",
       "    </tr>\n",
       "    <tr>\n",
       "      <th>2068689</th>\n",
       "      <td>lang</td>\n",
       "    </tr>\n",
       "    <tr>\n",
       "      <th>2068690</th>\n",
       "      <td>contributors_enabled</td>\n",
       "    </tr>\n",
       "    <tr>\n",
       "      <th>2068691</th>\n",
       "      <td>is_translator</td>\n",
       "    </tr>\n",
       "    <tr>\n",
       "      <th>2068692</th>\n",
       "      <td>is_translation_enabled</td>\n",
       "    </tr>\n",
       "    <tr>\n",
       "      <th>2068693</th>\n",
       "      <td>profile_background_color</td>\n",
       "    </tr>\n",
       "    <tr>\n",
       "      <th>2068694</th>\n",
       "      <td>profile_background_image_url</td>\n",
       "    </tr>\n",
       "    <tr>\n",
       "      <th>2068695</th>\n",
       "      <td>profile_background_image_url_https</td>\n",
       "    </tr>\n",
       "    <tr>\n",
       "      <th>2068696</th>\n",
       "      <td>profile_background_tile</td>\n",
       "    </tr>\n",
       "    <tr>\n",
       "      <th>2068697</th>\n",
       "      <td>profile_image_url</td>\n",
       "    </tr>\n",
       "    <tr>\n",
       "      <th>2068698</th>\n",
       "      <td>profile_image_url_https</td>\n",
       "    </tr>\n",
       "    <tr>\n",
       "      <th>2068699</th>\n",
       "      <td>profile_link_color</td>\n",
       "    </tr>\n",
       "    <tr>\n",
       "      <th>2068700</th>\n",
       "      <td>profile_sidebar_border_color</td>\n",
       "    </tr>\n",
       "    <tr>\n",
       "      <th>2068701</th>\n",
       "      <td>profile_sidebar_fill_color</td>\n",
       "    </tr>\n",
       "    <tr>\n",
       "      <th>2068702</th>\n",
       "      <td>profile_text_color</td>\n",
       "    </tr>\n",
       "    <tr>\n",
       "      <th>2068703</th>\n",
       "      <td>profile_use_background_image</td>\n",
       "    </tr>\n",
       "    <tr>\n",
       "      <th>2068704</th>\n",
       "      <td>has_extended_profile</td>\n",
       "    </tr>\n",
       "    <tr>\n",
       "      <th>2068705</th>\n",
       "      <td>default_profile</td>\n",
       "    </tr>\n",
       "    <tr>\n",
       "      <th>2068706</th>\n",
       "      <td>default_profile_image</td>\n",
       "    </tr>\n",
       "    <tr>\n",
       "      <th>2068707</th>\n",
       "      <td>following</td>\n",
       "    </tr>\n",
       "    <tr>\n",
       "      <th>2068708</th>\n",
       "      <td>follow_request_sent</td>\n",
       "    </tr>\n",
       "    <tr>\n",
       "      <th>2068709</th>\n",
       "      <td>notifications</td>\n",
       "    </tr>\n",
       "    <tr>\n",
       "      <th>2068710</th>\n",
       "      <td>translator_type</td>\n",
       "    </tr>\n",
       "  </tbody>\n",
       "</table>\n",
       "<p>2068711 rows × 1 columns</p>\n",
       "</div>"
      ],
      "text/plain": [
       "                                          0\n",
       "0                                        id\n",
       "1                                    id_str\n",
       "2                                      name\n",
       "3                               screen_name\n",
       "4                                  location\n",
       "5                               description\n",
       "6                                       url\n",
       "7                                  entities\n",
       "8                                 protected\n",
       "9                           followers_count\n",
       "10                            friends_count\n",
       "11                             listed_count\n",
       "12                               created_at\n",
       "13                         favourites_count\n",
       "14                               utc_offset\n",
       "15                                time_zone\n",
       "16                              geo_enabled\n",
       "17                                 verified\n",
       "18                           statuses_count\n",
       "19                                     lang\n",
       "20                     contributors_enabled\n",
       "21                            is_translator\n",
       "22                   is_translation_enabled\n",
       "23                 profile_background_color\n",
       "24             profile_background_image_url\n",
       "25       profile_background_image_url_https\n",
       "26                  profile_background_tile\n",
       "27                        profile_image_url\n",
       "28                  profile_image_url_https\n",
       "29                       profile_banner_url\n",
       "...                                     ...\n",
       "2068681                        listed_count\n",
       "2068682                          created_at\n",
       "2068683                    favourites_count\n",
       "2068684                          utc_offset\n",
       "2068685                           time_zone\n",
       "2068686                         geo_enabled\n",
       "2068687                            verified\n",
       "2068688                      statuses_count\n",
       "2068689                                lang\n",
       "2068690                contributors_enabled\n",
       "2068691                       is_translator\n",
       "2068692              is_translation_enabled\n",
       "2068693            profile_background_color\n",
       "2068694        profile_background_image_url\n",
       "2068695  profile_background_image_url_https\n",
       "2068696             profile_background_tile\n",
       "2068697                   profile_image_url\n",
       "2068698             profile_image_url_https\n",
       "2068699                  profile_link_color\n",
       "2068700        profile_sidebar_border_color\n",
       "2068701          profile_sidebar_fill_color\n",
       "2068702                  profile_text_color\n",
       "2068703        profile_use_background_image\n",
       "2068704                has_extended_profile\n",
       "2068705                     default_profile\n",
       "2068706               default_profile_image\n",
       "2068707                           following\n",
       "2068708                 follow_request_sent\n",
       "2068709                       notifications\n",
       "2068710                     translator_type\n",
       "\n",
       "[2068711 rows x 1 columns]"
      ]
     },
     "execution_count": 45,
     "metadata": {},
     "output_type": "execute_result"
    }
   ],
   "source": [
    "df_normal"
   ]
  },
  {
   "cell_type": "code",
   "execution_count": null,
   "metadata": {},
   "outputs": [],
   "source": [
    "len(df_normal.columns)"
   ]
  },
  {
   "cell_type": "markdown",
   "metadata": {},
   "source": [
    "# Analyzing Tweet Content"
   ]
  },
  {
   "cell_type": "code",
   "execution_count": 25,
   "metadata": {},
   "outputs": [],
   "source": [
    "import pandas as pd\n",
    "import seaborn as sns\n",
    "import pandas as pd\n",
    "import matplotlib.pyplot as plt\n",
    "import nltk\n",
    "import string\n",
    "\n",
    "# Some Functions from Last Time to get us started:\n",
    "def get_wordnet_pos(word):\n",
    "\n",
    "    tag = nltk.pos_tag([word])[0][1][0].upper()\n",
    "    tag_dict = {\"J\": nltk.corpus.wordnet.ADJ,\n",
    "                \"N\": nltk.corpus.wordnet.NOUN,\n",
    "                \"V\": nltk.corpus.wordnet.VERB,\n",
    "                \"R\": nltk.corpus.wordnet.ADV}\n",
    "\n",
    "    return tag_dict.get(tag, nltk.corpus.wordnet.NOUN)\n",
    "\n",
    "def get_lemmas(text):\n",
    "    stop = nltk.corpus.stopwords.words('english') + list(string.punctuation)\n",
    "    tokens = [i for i in nltk.word_tokenize(text.lower()) if i not in stop]\n",
    "    lemmas = [nltk.stem.WordNetLemmatizer().lemmatize(t, get_wordnet_pos(t)) for t in tokens]\n",
    "    return lemmas\n",
    "\n",
    "def get_tokens(text):\n",
    "    # drop punctuation, but keep stopwords for initial word counting\n",
    "    text = text.translate(str.maketrans('', '', string.punctuation))\n",
    "    tokens = [i for i in nltk.word_tokenize(text.lower())]\n",
    "    return tokens"
   ]
  },
  {
   "cell_type": "code",
   "execution_count": 63,
   "metadata": {},
   "outputs": [],
   "source": [
    "def json_to_tweet_text(json_lst):\n",
    "    df = pd.DataFrame(json_lst)\n",
    "    df_eng = df[df['lang']=='en']\n",
    "    #tweet_text = df_eng['full_text'].apply(get_tokens)\n",
    "    return df_eng['full_text']\n"
   ]
  },
  {
   "cell_type": "code",
   "execution_count": 64,
   "metadata": {},
   "outputs": [],
   "source": [
    "mar_text = json_to_tweet_text(mar_json)"
   ]
  },
  {
   "cell_type": "code",
   "execution_count": 71,
   "metadata": {},
   "outputs": [
    {
     "ename": "NameError",
     "evalue": "name 'jul_json' is not defined",
     "output_type": "error",
     "traceback": [
      "\u001b[1;31m---------------------------------------------------------------------------\u001b[0m",
      "\u001b[1;31mNameError\u001b[0m                                 Traceback (most recent call last)",
      "\u001b[1;32m<ipython-input-71-407d61ddf56d>\u001b[0m in \u001b[0;36m<module>\u001b[1;34m()\u001b[0m\n\u001b[1;32m----> 1\u001b[1;33m \u001b[0mjul_text\u001b[0m \u001b[1;33m=\u001b[0m \u001b[0mjson_to_tweet_text\u001b[0m\u001b[1;33m(\u001b[0m\u001b[0mjul_json\u001b[0m\u001b[1;33m)\u001b[0m\u001b[1;33m\u001b[0m\u001b[0m\n\u001b[0m",
      "\u001b[1;31mNameError\u001b[0m: name 'jul_json' is not defined"
     ]
    }
   ],
   "source": [
    "jul_text = json_to_tweet_text(jul_json)"
   ]
  },
  {
   "cell_type": "code",
   "execution_count": 65,
   "metadata": {},
   "outputs": [
    {
     "data": {
      "text/plain": [
       "0        RT @thedailybeast: #SNL brutally roasts Trump’...\n",
       "1        RT @mlipsitch: Important evidence on role of s...\n",
       "3        RT @RinChupeco: Given coronavirus fears, more ...\n",
       "5        RT @BrianKarem: Why are they lying to us? The ...\n",
       "6        RT @CameronLMitchel: @kylegriffin1 The Trump @...\n",
       "9        White House Continues To Lie About Coronavirus...\n",
       "10       RT @ketengahketepi: Maaf tanya. Part happy bir...\n",
       "11       RT @GrantTucker: Britain: We survived the war ...\n",
       "12       RT @atrupar: The president is golfing at a pri...\n",
       "13       RT @KHJ_Esq: Coronavirus got Boomers stocking ...\n",
       "14       RT @MarkJacob16: Disappointed in the conspirac...\n",
       "15       RT @Mike_Pence: As a result of President @real...\n",
       "16       RT @anthonydragons: aiiight that’s it! This sh...\n",
       "19       RT @MollyJongFast: The level of incompetence h...\n",
       "22       RT @fairyglowmother: Important to note that th...\n",
       "25       @Surgeon_General indeed you repeated this a co...\n",
       "26       RT @rob_mose: Wow. \\n\\nA nursing home in Seatt...\n",
       "27       RT @krisssnicolee: 2004- SARS \\n2008- AVIAN \\n...\n",
       "28       RT @thekarami: Iran’s confirmed corona cases i...\n",
       "29       @PancrasMalani @ali_naka Bubonic Plague origin...\n",
       "30       RT @NorbertElekes: BREAKING: Africa's first co...\n",
       "31       RT @RahanaHussain1: BBC News - Coronavirus: UK...\n",
       "33       RT @slugsrool: @atatimelikethis @Daisybelll Be...\n",
       "35       RT @RobertS45298013: Just got an email from UC...\n",
       "36       RT @anthonydragons: aiiight that’s it! This sh...\n",
       "37       RT @mredwards: I've heard that coronavirus is ...\n",
       "39       RT @itsJeffTiedrich: holy fucking shit, over a...\n",
       "40       RT @TimRunsHisMouth: Quick Survey... Raise you...\n",
       "41           Hold a rally....🤞🤞🤞🤞🤞 https://t.co/1RGXrFwQhP\n",
       "42       @pjainmg @DanGarrett97 @BoycottHegemony @qz Th...\n",
       "                               ...                        \n",
       "49438    RT @DrTedros: The government &amp; the people ...\n",
       "49442    RT @atrupar: In this clip, Trump:\\n1. Denies W...\n",
       "49443    Trump was only early on one thing, eliminating...\n",
       "49444    RT @samantha__riggs: coronavirus made flights ...\n",
       "49445    RT @DonaldJTrumpJr: Read this thread and RT. G...\n",
       "49446          Totally incompetent https://t.co/SGIO88v9dJ\n",
       "49452    RT @davidcbaker: As of now, 435/500 slots take...\n",
       "49453    @drhume655 @StellaDeSantis4 @TheLocalSpain The...\n",
       "49455    RT @JoyceWhiteVance: The President of the Unit...\n",
       "49456    Trump clearly and unequivocally meets his own ...\n",
       "49457    RT @Zihluzu: Babes Wodumo explain the cause of...\n",
       "49458    RT @nntaleb: Beware Journalistic Fallacies\\n\\n...\n",
       "49459    RT @Gothamist: In hopes of containing the spre...\n",
       "49460    RT @thehill: US Marine contracts coronavirus i...\n",
       "49461          RT @elonmusk: The coronavirus panic is dumb\n",
       "49462    RT @WIONews: Currently, there are 80,695 confi...\n",
       "49463    RT @jamesmatesitv: Devastating new #coronaviru...\n",
       "49464    RT @Chris_1791: Cruise Ship Carrying 3,500 Pas...\n",
       "49466    RT @TrumpWarRoom: Watch Dr. Anthony Fauci set ...\n",
       "49467    RT @nytimes: Coronavirus updates:\\n—Dr. Anthon...\n",
       "49468         I ACTUALLY HATE THIS https://t.co/0qpIGRrdC0\n",
       "49469    RT @TrumpWarRoom: Watch Dr. Ben Carson dispel ...\n",
       "49470    RT @ScottGottliebMD: THREAD: On #Coronavirus, ...\n",
       "49471    Prepping for the Coronavirus and thinking abou...\n",
       "49472    RT @mmpadellan: Surgeon General Jerome Adams i...\n",
       "49473    RT @XDaneelOlivaw: @QuancyClayborne It's not o...\n",
       "49474    RT @Lrihendry: @iheartmindy Raccoons are notor...\n",
       "49475    RT @nycjim: NEW: Italy reports 133 #coronaviru...\n",
       "49477    RT @NorbertElekes: BREAKING: Italy reports 1,4...\n",
       "49479    RT @ABCLiz: UPDATE: A spokesperson for @Prince...\n",
       "Name: full_text, Length: 32121, dtype: object"
      ]
     },
     "execution_count": 65,
     "metadata": {},
     "output_type": "execute_result"
    }
   ],
   "source": [
    "mar_text"
   ]
  },
  {
   "cell_type": "code",
   "execution_count": 27,
   "metadata": {},
   "outputs": [],
   "source": [
    "relative_vocab = pd.read_csv('relatedQueries.csv')\n",
    "relative_words = list(relative_vocab['word'])"
   ]
  },
  {
   "cell_type": "code",
   "execution_count": 28,
   "metadata": {},
   "outputs": [
    {
     "name": "stdout",
     "output_type": "stream",
     "text": [
      "['the prayer', 'prayer times', 'prayer time', 'catholic prayer', 'healing prayer', 'serenity prayer', 'serenity', 'what is prayer', 'lords prayer', 'morning prayer', 'prayer for healing', 'jesus prayer', 'daily prayer', 'our father prayer', 'our father', 'prayer quotes', 'muslim prayer', 'lord prayer', 'prayer plant', 'the lords prayer', 'islamic prayer', 'hail mary', 'hail mary prayer', 'house of prayer', 'night prayer']\n"
     ]
    }
   ],
   "source": [
    "print(relative_words)"
   ]
  },
  {
   "cell_type": "code",
   "execution_count": 50,
   "metadata": {},
   "outputs": [],
   "source": [
    "rising_vocab = pd.read_csv('risingQueries.csv')\n",
    "rising_words = list(rising_vocab['word'])"
   ]
  },
  {
   "cell_type": "code",
   "execution_count": 54,
   "metadata": {},
   "outputs": [
    {
     "name": "stdout",
     "output_type": "stream",
     "text": [
      "['coronavirus prayer', 'prayer for coronavirus', 'national day of prayer 2020', 'ramadan 2020', 'prayer of spiritual communion', 'spiritual communion prayer', 'prayer for spiritual communion', 'lds sacrament prayer', 'the hunters prayer', 'let this be our prayer', 'sacrament prayer', 'national prayer breakfast', 'communion prayer', 'divine mercy chaplet prayer', 'divine mercy prayer', 'morning prayer for him', 'prayer for the world', 'prayer plant care', 'national day of prayer', 'prayer before bed', 'daily prayer us', 'assembly of prayer', 'prayer plant', 'hail holy queen prayer', 'isha prayer times']\n"
     ]
    }
   ],
   "source": [
    "print(rising_words)"
   ]
  },
  {
   "cell_type": "code",
   "execution_count": 51,
   "metadata": {},
   "outputs": [],
   "source": [
    "relative_words.extend(rising_words)"
   ]
  },
  {
   "cell_type": "code",
   "execution_count": 58,
   "metadata": {},
   "outputs": [
    {
     "name": "stdout",
     "output_type": "stream",
     "text": [
      "['the prayer', 'prayer times', 'prayer time', 'catholic prayer', 'healing prayer', 'serenity prayer', 'serenity', 'what is prayer', 'lords prayer', 'morning prayer', 'prayer for healing', 'jesus prayer', 'daily prayer', 'our father prayer', 'our father', 'prayer quotes', 'muslim prayer', 'lord prayer', 'prayer plant', 'the lords prayer', 'islamic prayer', 'hail mary', 'hail mary prayer', 'house of prayer', 'night prayer', 'coronavirus prayer', 'prayer for coronavirus', 'national day of prayer 2020', 'ramadan 2020', 'prayer of spiritual communion', 'spiritual communion prayer', 'prayer for spiritual communion', 'lds sacrament prayer', 'the hunters prayer', 'let this be our prayer', 'sacrament prayer', 'national prayer breakfast', 'communion prayer', 'divine mercy chaplet prayer', 'divine mercy prayer', 'morning prayer for him', 'prayer for the world', 'prayer plant care', 'national day of prayer', 'prayer before bed', 'daily prayer us', 'assembly of prayer', 'prayer plant', 'hail holy queen prayer', 'isha prayer times']\n"
     ]
    }
   ],
   "source": [
    "print(relative_words)"
   ]
  },
  {
   "cell_type": "code",
   "execution_count": 76,
   "metadata": {},
   "outputs": [],
   "source": [
    "#Measure religiosity\n",
    "def relig_perc(text, vocab):\n",
    "    return any([word in text for word in vocab])\n"
   ]
  },
  {
   "cell_type": "code",
   "execution_count": 69,
   "metadata": {},
   "outputs": [],
   "source": [
    "mar_relig = mar_text.apply(lambda x: relig_perc(x, relative_words))"
   ]
  },
  {
   "cell_type": "code",
   "execution_count": 70,
   "metadata": {},
   "outputs": [
    {
     "name": "stdout",
     "output_type": "stream",
     "text": [
      "0.0\n"
     ]
    }
   ],
   "source": [
    "print(mar_relig.mean())"
   ]
  },
  {
   "cell_type": "code",
   "execution_count": null,
   "metadata": {},
   "outputs": [],
   "source": [
    "jul_relig = jul_text.apply(lambda x: relig_perc(x, relative_words))"
   ]
  },
  {
   "cell_type": "markdown",
   "metadata": {},
   "source": [
    "# Extracting the Geocodes"
   ]
  },
  {
   "cell_type": "code",
   "execution_count": null,
   "metadata": {},
   "outputs": [],
   "source": [
    "from geopy.geocoders import OpenMapQuest\n",
    "from geopy.extra.rate_limiter import RateLimiter\n",
    "geolocator = OpenMapQuest(api_key='FGtjwBYCTEadGZpAIEkM2ySw5518bS7b') \n",
    "geocoder = RateLimiter(geolocator.geocode, min_delay_seconds=1) \n",
    "fwp_df['location'] = fwp_df['userlocation'].apply(geocoder)"
   ]
  }
 ],
 "metadata": {
  "kernelspec": {
   "display_name": "Python 3",
   "language": "python",
   "name": "python3"
  },
  "language_info": {
   "codemirror_mode": {
    "name": "ipython",
    "version": 3
   },
   "file_extension": ".py",
   "mimetype": "text/x-python",
   "name": "python",
   "nbconvert_exporter": "python",
   "pygments_lexer": "ipython3",
   "version": "3.6.5"
  }
 },
 "nbformat": 4,
 "nbformat_minor": 2
}
